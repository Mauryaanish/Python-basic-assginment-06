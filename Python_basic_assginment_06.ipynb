{
  "nbformat": 4,
  "nbformat_minor": 0,
  "metadata": {
    "colab": {
      "provenance": []
    },
    "kernelspec": {
      "name": "python3",
      "display_name": "Python 3"
    },
    "language_info": {
      "name": "python"
    }
  },
  "cells": [
    {
      "cell_type": "markdown",
      "source": [
        "## 1. What are escape characters, and how do you use them?\n",
        "\n",
        "Answer:- To insert characters that are illegal in a string, use an escape character. An escape character is a backslash \\ followed by the character you want to insert."
      ],
      "metadata": {
        "id": "_w13V8ldRv8Y"
      }
    },
    {
      "cell_type": "code",
      "source": [],
      "metadata": {
        "id": "AMWz0EfjSCxo"
      },
      "execution_count": null,
      "outputs": []
    },
    {
      "cell_type": "markdown",
      "source": [
        "## 2. What do the escape characters n and t stand for?\n",
        "\n",
        "Answer:- \\n is a newline; \\t is a tab"
      ],
      "metadata": {
        "id": "47dgraOWSEOV"
      }
    },
    {
      "cell_type": "code",
      "source": [],
      "metadata": {
        "id": "DIvR9p7SSdBH"
      },
      "execution_count": null,
      "outputs": []
    },
    {
      "cell_type": "markdown",
      "source": [
        "## 3. What is the way to include backslash characters in a string?\n",
        "\n",
        "Answer:- The \\\\ escape character will represent a backslash characte"
      ],
      "metadata": {
        "id": "6Xy38rnhSeLl"
      }
    },
    {
      "cell_type": "code",
      "source": [],
      "metadata": {
        "id": "q_CRQX0TSrKA"
      },
      "execution_count": null,
      "outputs": []
    },
    {
      "cell_type": "markdown",
      "source": [
        "## 4. The string &quot;Howl&#39;s Moving Castle&quot; is a correct value. Why isn&#39;t the single quote character in the\n",
        "word Howl&#39;s not escaped a problem?\n",
        "\n",
        "Answer:- The single quote in Howl's is fine because you've used double quotes to mark the beginning and end of the string."
      ],
      "metadata": {
        "id": "5w-qpZ2RSr9u"
      }
    },
    {
      "cell_type": "markdown",
      "source": [
        "## 5. How do you write a string of newlines if you don&#39;t want to use the n character?\n",
        "\n",
        "Answer:- Multiline strings allow you to use newlines in strings without the \\n escape character."
      ],
      "metadata": {
        "id": "RsB_11RfSsAe"
      }
    },
    {
      "cell_type": "code",
      "source": [],
      "metadata": {
        "id": "2OqvGvJFTD43"
      },
      "execution_count": null,
      "outputs": []
    },
    {
      "cell_type": "markdown",
      "source": [
        "## 6. What are the values of the given expression"
      ],
      "metadata": {
        "id": "juEfacgzTEjP"
      }
    },
    {
      "cell_type": "code",
      "source": [
        "\"hello, world!\"[1]"
      ],
      "metadata": {
        "colab": {
          "base_uri": "https://localhost:8080/",
          "height": 36
        },
        "id": "Lix9_n-KTQ0o",
        "outputId": "073dd756-b06c-4caa-8d4d-77e2b9911a2d"
      },
      "execution_count": 3,
      "outputs": [
        {
          "output_type": "execute_result",
          "data": {
            "text/plain": [
              "'e'"
            ],
            "application/vnd.google.colaboratory.intrinsic+json": {
              "type": "string"
            }
          },
          "metadata": {},
          "execution_count": 3
        }
      ]
    },
    {
      "cell_type": "code",
      "source": [
        "\"hello, world!\"[0:5]"
      ],
      "metadata": {
        "colab": {
          "base_uri": "https://localhost:8080/",
          "height": 36
        },
        "id": "0RFpWmHuTlWC",
        "outputId": "52a21884-7aca-46aa-9fee-6bc88abf883f"
      },
      "execution_count": 4,
      "outputs": [
        {
          "output_type": "execute_result",
          "data": {
            "text/plain": [
              "'hello'"
            ],
            "application/vnd.google.colaboratory.intrinsic+json": {
              "type": "string"
            }
          },
          "metadata": {},
          "execution_count": 4
        }
      ]
    },
    {
      "cell_type": "code",
      "source": [
        "\"hello, world!\"[:5]"
      ],
      "metadata": {
        "colab": {
          "base_uri": "https://localhost:8080/",
          "height": 36
        },
        "id": "Yq8a-L6CUBKA",
        "outputId": "a92891c5-360d-49cc-e018-531a3c4132ee"
      },
      "execution_count": 5,
      "outputs": [
        {
          "output_type": "execute_result",
          "data": {
            "text/plain": [
              "'hello'"
            ],
            "application/vnd.google.colaboratory.intrinsic+json": {
              "type": "string"
            }
          },
          "metadata": {},
          "execution_count": 5
        }
      ]
    },
    {
      "cell_type": "code",
      "source": [
        "\"hello, world!\"[3:]"
      ],
      "metadata": {
        "colab": {
          "base_uri": "https://localhost:8080/",
          "height": 36
        },
        "id": "Ncmh9INLUFO3",
        "outputId": "1a0c1b08-3d39-4567-a196-9e45adbcbbb3"
      },
      "execution_count": 6,
      "outputs": [
        {
          "output_type": "execute_result",
          "data": {
            "text/plain": [
              "'lo, world!'"
            ],
            "application/vnd.google.colaboratory.intrinsic+json": {
              "type": "string"
            }
          },
          "metadata": {},
          "execution_count": 6
        }
      ]
    },
    {
      "cell_type": "code",
      "source": [],
      "metadata": {
        "id": "vdC-fYy9UJrX"
      },
      "execution_count": null,
      "outputs": []
    },
    {
      "cell_type": "markdown",
      "source": [
        "## 7. What are the values of the following expressions?"
      ],
      "metadata": {
        "id": "AUh9B0rdULDA"
      }
    },
    {
      "cell_type": "code",
      "source": [
        "\"Hello\".upper()"
      ],
      "metadata": {
        "colab": {
          "base_uri": "https://localhost:8080/",
          "height": 36
        },
        "id": "gVIm_6xRUUq_",
        "outputId": "cd026580-d088-463f-8717-f7199193cb4a"
      },
      "execution_count": 7,
      "outputs": [
        {
          "output_type": "execute_result",
          "data": {
            "text/plain": [
              "'HELLO'"
            ],
            "application/vnd.google.colaboratory.intrinsic+json": {
              "type": "string"
            }
          },
          "metadata": {},
          "execution_count": 7
        }
      ]
    },
    {
      "cell_type": "code",
      "source": [
        "\"Hello\".upper().isupper()"
      ],
      "metadata": {
        "colab": {
          "base_uri": "https://localhost:8080/"
        },
        "id": "S5afHT_jUaew",
        "outputId": "bd1b91ed-9378-48f8-eff4-509416f97ad2"
      },
      "execution_count": 8,
      "outputs": [
        {
          "output_type": "execute_result",
          "data": {
            "text/plain": [
              "True"
            ]
          },
          "metadata": {},
          "execution_count": 8
        }
      ]
    },
    {
      "cell_type": "code",
      "source": [
        "\"Hello\".upper().lower()"
      ],
      "metadata": {
        "colab": {
          "base_uri": "https://localhost:8080/",
          "height": 36
        },
        "id": "1eIxmF9EUgrI",
        "outputId": "7011d669-253a-4d65-da83-156c33316188"
      },
      "execution_count": 9,
      "outputs": [
        {
          "output_type": "execute_result",
          "data": {
            "text/plain": [
              "'hello'"
            ],
            "application/vnd.google.colaboratory.intrinsic+json": {
              "type": "string"
            }
          },
          "metadata": {},
          "execution_count": 9
        }
      ]
    },
    {
      "cell_type": "code",
      "source": [],
      "metadata": {
        "id": "9WzeBOM5Uloo"
      },
      "execution_count": null,
      "outputs": []
    },
    {
      "cell_type": "markdown",
      "source": [
        "## 8. What are the values of the following expressions?"
      ],
      "metadata": {
        "id": "NYcRciVMUsMO"
      }
    },
    {
      "cell_type": "code",
      "source": [
        "\"Remember, remember, the fifth of July\".split()"
      ],
      "metadata": {
        "colab": {
          "base_uri": "https://localhost:8080/"
        },
        "id": "Tz-AnJCnUtr_",
        "outputId": "695a1661-1837-4bda-ddf4-b99f5ad5be59"
      },
      "execution_count": 10,
      "outputs": [
        {
          "output_type": "execute_result",
          "data": {
            "text/plain": [
              "['Remember,', 'remember,', 'the', 'fifth', 'of', 'July']"
            ]
          },
          "metadata": {},
          "execution_count": 10
        }
      ]
    },
    {
      "cell_type": "code",
      "source": [
        "\"-\".join(\"There can only one.\".split())"
      ],
      "metadata": {
        "colab": {
          "base_uri": "https://localhost:8080/",
          "height": 36
        },
        "id": "m_NGSWZQU7nQ",
        "outputId": "c9c17aab-baf7-4552-c19c-a7dde6e3226b"
      },
      "execution_count": 11,
      "outputs": [
        {
          "output_type": "execute_result",
          "data": {
            "text/plain": [
              "'There-can-only-one.'"
            ],
            "application/vnd.google.colaboratory.intrinsic+json": {
              "type": "string"
            }
          },
          "metadata": {},
          "execution_count": 11
        }
      ]
    },
    {
      "cell_type": "code",
      "source": [],
      "metadata": {
        "id": "RTKTfXJJVSyn"
      },
      "execution_count": null,
      "outputs": []
    },
    {
      "cell_type": "markdown",
      "source": [
        "## 9. What are the methods for right-justifying, left-justifying, and centering a string?\n",
        "\n",
        "Answer:- The rjust(), ljust(), and center() string methods, respectively"
      ],
      "metadata": {
        "id": "J3QvIFobVW0o"
      }
    },
    {
      "cell_type": "code",
      "source": [],
      "metadata": {
        "id": "Xw8JBNk9Vd9H"
      },
      "execution_count": null,
      "outputs": []
    },
    {
      "cell_type": "markdown",
      "source": [
        "## 10. What is the best way to remove whitespace characters from the start or end?\n",
        "\n",
        "Answer:- The lstrip() and rstrip() methods remove whitespace from the left and right ends of a string, respectively."
      ],
      "metadata": {
        "id": "pE8p3BrZVelf"
      }
    },
    {
      "cell_type": "code",
      "source": [],
      "metadata": {
        "id": "jt2r41TyVlBP"
      },
      "execution_count": null,
      "outputs": []
    }
  ]
}